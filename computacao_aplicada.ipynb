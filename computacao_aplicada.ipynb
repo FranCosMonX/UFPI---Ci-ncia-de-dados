{
  "cells": [
    {
      "cell_type": "markdown",
      "metadata": {
        "id": "o6iEEBQF_Yt2"
      },
      "source": [
        "\n",
        "# Calor vs Humor\n",
        "\n",
        "Essa pesquisa busca entender como o calor influencia o humor das pessoas de Teresina.\n",
        "\n",
        "## Coleta de dados\n",
        "\n",
        "Coleta de dados é a primeira etapa para se obter dados genéricos, mesmo que voltado para um problema, para que possa ser feito o refinamento e, posteriormente, análise dos dados.\n",
        "\n",
        "### Procedimento de coleta de dados\n",
        "\n",
        "Os dados foram coletados por meio do **Google Forms** que contém um questionário com 10 questões objetivas.\n",
        "\n",
        "### Volume dos dados\n",
        "\n",
        "### Organização e compartilhamento\n",
        "\n",
        "O formulário foi enviado em grupos do **WhatsApp**."
      ]
    },
    {
      "cell_type": "markdown",
      "metadata": {
        "id": "sM3DYXsxLSlX"
      },
      "source": [
        "# Carregamento dos Dados"
      ]
    },
    {
      "cell_type": "code",
      "execution_count": 3,
      "metadata": {
        "colab": {
          "base_uri": "https://localhost:8080/",
          "height": 414
        },
        "id": "S4MatKmnLYEg",
        "outputId": "72f4e861-27df-4be4-8680-c1f40ab34cad"
      },
      "outputs": [
        {
          "data": {
            "text/html": [
              "<div>\n",
              "<style scoped>\n",
              "    .dataframe tbody tr th:only-of-type {\n",
              "        vertical-align: middle;\n",
              "    }\n",
              "\n",
              "    .dataframe tbody tr th {\n",
              "        vertical-align: top;\n",
              "    }\n",
              "\n",
              "    .dataframe thead th {\n",
              "        text-align: right;\n",
              "    }\n",
              "</style>\n",
              "<table border=\"1\" class=\"dataframe\">\n",
              "  <thead>\n",
              "    <tr style=\"text-align: right;\">\n",
              "      <th></th>\n",
              "      <th>Carimbo de data/hora</th>\n",
              "      <th>1. Como você se sentiu hoje?</th>\n",
              "      <th>2. Você saiu de casa hoje?</th>\n",
              "      <th>3. Se sim, em qual período?</th>\n",
              "      <th>4. O calor influenciou sua decisão de sair ou ficar em casa?</th>\n",
              "      <th>5. O que você fez para se refrescar hoje?  \\n  (Marque todas as que se aplicam)</th>\n",
              "      <th>6. O calor influenciou sua alimentação hoje?</th>\n",
              "      <th>7. Quantos copos de água (aproximadamente) você tomou hoje?</th>\n",
              "      <th>8. Como você avaliaria sua produtividade hoje?</th>\n",
              "      <th>9. Você acha que o calor afetou seu humor hoje?</th>\n",
              "      <th>10. De 0 a 10, qual nota você daria para o \"calor de hoje\"?</th>\n",
              "      <th>Temperatura Máxima (°C)</th>\n",
              "      <th>Temperatura Mínima (°C)</th>\n",
              "    </tr>\n",
              "  </thead>\n",
              "  <tbody>\n",
              "    <tr>\n",
              "      <th>0</th>\n",
              "      <td>01/04/2025 22:13:10</td>\n",
              "      <td>Neutro</td>\n",
              "      <td>Sim</td>\n",
              "      <td>Manhã</td>\n",
              "      <td>Não pensei sobre isso</td>\n",
              "      <td>Tomei banho mais de uma vez, Fiquei no ventila...</td>\n",
              "      <td>Não, comi como de costume</td>\n",
              "      <td>Mais de 10</td>\n",
              "      <td>Produtivo(a)</td>\n",
              "      <td>Sim, fiquei mais irritado(a)/cansado(a)</td>\n",
              "      <td>10</td>\n",
              "      <td>33</td>\n",
              "      <td>24</td>\n",
              "    </tr>\n",
              "    <tr>\n",
              "      <th>1</th>\n",
              "      <td>01/04/2025 22:13:30</td>\n",
              "      <td>Bem</td>\n",
              "      <td>Sim</td>\n",
              "      <td>Manhã</td>\n",
              "      <td>Sim, saí mais cedo ou mais tarde para evitar o...</td>\n",
              "      <td>Tomei banho mais de uma vez, Comi algo leve/so...</td>\n",
              "      <td>Sim, escolhi comidas mais leves/frescas</td>\n",
              "      <td>Mais de 10</td>\n",
              "      <td>Mediano</td>\n",
              "      <td>Sim, fiquei mais desanimado(a)</td>\n",
              "      <td>9</td>\n",
              "      <td>33</td>\n",
              "      <td>24</td>\n",
              "    </tr>\n",
              "    <tr>\n",
              "      <th>2</th>\n",
              "      <td>01/04/2025 22:14:09</td>\n",
              "      <td>Neutro</td>\n",
              "      <td>Sim</td>\n",
              "      <td>Tarde, Noite</td>\n",
              "      <td>Não pensei sobre isso</td>\n",
              "      <td>Tomei banho mais de uma vez, Fiquei no ventila...</td>\n",
              "      <td>Não, comi como de costume</td>\n",
              "      <td>Entre 8 e 10</td>\n",
              "      <td>Produtivo(a)</td>\n",
              "      <td>Sim, fiquei mais desanimado(a)</td>\n",
              "      <td>7</td>\n",
              "      <td>33</td>\n",
              "      <td>24</td>\n",
              "    </tr>\n",
              "    <tr>\n",
              "      <th>3</th>\n",
              "      <td>01/04/2025 22:14:11</td>\n",
              "      <td>Bem</td>\n",
              "      <td>Sim</td>\n",
              "      <td>Manhã</td>\n",
              "      <td>Sim, saí mais cedo ou mais tarde para evitar o...</td>\n",
              "      <td>Fiquei no ventilador/ar-condicionado, Tomei al...</td>\n",
              "      <td>Não, comi como de costume</td>\n",
              "      <td>Mais de 10</td>\n",
              "      <td>Mediano</td>\n",
              "      <td>Sim, fiquei mais irritado(a)/cansado(a)</td>\n",
              "      <td>10</td>\n",
              "      <td>33</td>\n",
              "      <td>24</td>\n",
              "    </tr>\n",
              "    <tr>\n",
              "      <th>4</th>\n",
              "      <td>01/04/2025 22:14:38</td>\n",
              "      <td>Bem</td>\n",
              "      <td>Sim</td>\n",
              "      <td>Manhã</td>\n",
              "      <td>Sim, saí mais cedo ou mais tarde para evitar o...</td>\n",
              "      <td>Tomei banho mais de uma vez, Fiquei no ventila...</td>\n",
              "      <td>Não, comi como de costume</td>\n",
              "      <td>Mais de 10</td>\n",
              "      <td>Nada produtivo(a)</td>\n",
              "      <td>Sim, fiquei mais desanimado(a)</td>\n",
              "      <td>6</td>\n",
              "      <td>33</td>\n",
              "      <td>24</td>\n",
              "    </tr>\n",
              "  </tbody>\n",
              "</table>\n",
              "</div>"
            ],
            "text/plain": [
              "  Carimbo de data/hora 1. Como você se sentiu hoje?   \\\n",
              "0  01/04/2025 22:13:10                        Neutro   \n",
              "1  01/04/2025 22:13:30                           Bem   \n",
              "2  01/04/2025 22:14:09                        Neutro   \n",
              "3  01/04/2025 22:14:11                           Bem   \n",
              "4  01/04/2025 22:14:38                           Bem   \n",
              "\n",
              "    2. Você saiu de casa hoje?     3. Se sim, em qual período?    \\\n",
              "0                            Sim                           Manhã   \n",
              "1                            Sim                           Manhã   \n",
              "2                            Sim                    Tarde, Noite   \n",
              "3                            Sim                           Manhã   \n",
              "4                            Sim                           Manhã   \n",
              "\n",
              "    4. O calor influenciou sua decisão de sair ou ficar em casa?    \\\n",
              "0                              Não pensei sobre isso                 \n",
              "1  Sim, saí mais cedo ou mais tarde para evitar o...                 \n",
              "2                              Não pensei sobre isso                 \n",
              "3  Sim, saí mais cedo ou mais tarde para evitar o...                 \n",
              "4  Sim, saí mais cedo ou mais tarde para evitar o...                 \n",
              "\n",
              "    5. O que você fez para se refrescar hoje?  \\n  (Marque todas as que se aplicam)    \\\n",
              "0  Tomei banho mais de uma vez, Fiquei no ventila...                                    \n",
              "1  Tomei banho mais de uma vez, Comi algo leve/so...                                    \n",
              "2  Tomei banho mais de uma vez, Fiquei no ventila...                                    \n",
              "3  Fiquei no ventilador/ar-condicionado, Tomei al...                                    \n",
              "4  Tomei banho mais de uma vez, Fiquei no ventila...                                    \n",
              "\n",
              "    6. O calor influenciou sua alimentação hoje?    \\\n",
              "0                        Não, comi como de costume   \n",
              "1          Sim, escolhi comidas mais leves/frescas   \n",
              "2                        Não, comi como de costume   \n",
              "3                        Não, comi como de costume   \n",
              "4                        Não, comi como de costume   \n",
              "\n",
              "    7. Quantos copos de água (aproximadamente) você tomou hoje?    \\\n",
              "0                                         Mais de 10                \n",
              "1                                         Mais de 10                \n",
              "2                                       Entre 8 e 10                \n",
              "3                                         Mais de 10                \n",
              "4                                         Mais de 10                \n",
              "\n",
              "    8. Como você avaliaria sua produtividade hoje?    \\\n",
              "0                                       Produtivo(a)   \n",
              "1                                            Mediano   \n",
              "2                                       Produtivo(a)   \n",
              "3                                            Mediano   \n",
              "4                                  Nada produtivo(a)   \n",
              "\n",
              "    9. Você acha que o calor afetou seu humor hoje?    \\\n",
              "0            Sim, fiquei mais irritado(a)/cansado(a)    \n",
              "1                     Sim, fiquei mais desanimado(a)    \n",
              "2                     Sim, fiquei mais desanimado(a)    \n",
              "3            Sim, fiquei mais irritado(a)/cansado(a)    \n",
              "4                     Sim, fiquei mais desanimado(a)    \n",
              "\n",
              "     10. De 0 a 10, qual nota você daria para o \"calor de hoje\"?    \\\n",
              "0                                                 10                 \n",
              "1                                                  9                 \n",
              "2                                                  7                 \n",
              "3                                                 10                 \n",
              "4                                                  6                 \n",
              "\n",
              "   Temperatura Máxima (°C)  Temperatura Mínima (°C)  \n",
              "0                       33                       24  \n",
              "1                       33                       24  \n",
              "2                       33                       24  \n",
              "3                       33                       24  \n",
              "4                       33                       24  "
            ]
          },
          "execution_count": 3,
          "metadata": {},
          "output_type": "execute_result"
        }
      ],
      "source": [
        "# Importando bibliotecas essenciais\n",
        "import pandas as pd\n",
        "import matplotlib.pyplot as plt\n",
        "import seaborn as sns\n",
        "\n",
        "# Carregando o arquivo CSV\n",
        "arquivo = './src/dataset/_ 📋 Questionário_ Humor vs. Calor em Teresina (respostas) - Respostas ao formulário 1.csv'\n",
        "df = pd.read_csv(arquivo)\n",
        "\n",
        "# Exibindo as primeiras linhas do dataset\n",
        "df.head()\n"
      ]
    },
    {
      "cell_type": "markdown",
      "metadata": {
        "id": "GPTFhsGtRtkv"
      },
      "source": [
        "# Informações sobre o questionário:\n",
        "\n",
        "- 📄 Número de respostas: X\n",
        "- ❓ Quantidade de perguntas: X\n",
        "- 📝 Lista de perguntas:\n",
        "  - Pergunta 1: ...\n",
        "  - Pergunta 2: ...\n",
        "- 📅 Datas em que houve resposta: [lista de datas]\n",
        "- 📆 Número de dias diferentes com respostas: X\n",
        "- 📈 Média de respostas por dia: X\n",
        "- 🕰️ Primeira resposta: dd/mm/aaaa\n",
        "- 🕰️ Última resposta: dd/mm/aaaa\n"
      ]
    },
    {
      "cell_type": "code",
      "execution_count": 4,
      "metadata": {
        "colab": {
          "base_uri": "https://localhost:8080/",
          "height": 478
        },
        "id": "kfGjOkU-Rrf4",
        "outputId": "5b39baff-2b8f-4b03-bce8-0dd1668b744f"
      },
      "outputs": [
        {
          "data": {
            "text/markdown": [
              "\n",
              "# 📋 Informações sobre o questionário:\n",
              "\n",
              "- ✅ **Número de respostas:** 132\n",
              "- ❓ **Quantidade de perguntas:** 10\n",
              "- 📝 **Perguntas do questionário:**\n"
            ],
            "text/plain": [
              "<IPython.core.display.Markdown object>"
            ]
          },
          "metadata": {},
          "output_type": "display_data"
        },
        {
          "data": {
            "text/markdown": [
              "  - 1. Como você se sentiu hoje?"
            ],
            "text/plain": [
              "<IPython.core.display.Markdown object>"
            ]
          },
          "metadata": {},
          "output_type": "display_data"
        },
        {
          "data": {
            "text/markdown": [
              "  - 2. Você saiu de casa hoje?"
            ],
            "text/plain": [
              "<IPython.core.display.Markdown object>"
            ]
          },
          "metadata": {},
          "output_type": "display_data"
        },
        {
          "data": {
            "text/markdown": [
              "  - 3. Se sim, em qual período?"
            ],
            "text/plain": [
              "<IPython.core.display.Markdown object>"
            ]
          },
          "metadata": {},
          "output_type": "display_data"
        },
        {
          "data": {
            "text/markdown": [
              "  - 4. O calor influenciou sua decisão de sair ou ficar em casa?"
            ],
            "text/plain": [
              "<IPython.core.display.Markdown object>"
            ]
          },
          "metadata": {},
          "output_type": "display_data"
        },
        {
          "data": {
            "text/markdown": [
              "  - 5. O que você fez para se refrescar hoje?  \n",
              "  (Marque todas as que se aplicam)"
            ],
            "text/plain": [
              "<IPython.core.display.Markdown object>"
            ]
          },
          "metadata": {},
          "output_type": "display_data"
        },
        {
          "data": {
            "text/markdown": [
              "  - 6. O calor influenciou sua alimentação hoje?"
            ],
            "text/plain": [
              "<IPython.core.display.Markdown object>"
            ]
          },
          "metadata": {},
          "output_type": "display_data"
        },
        {
          "data": {
            "text/markdown": [
              "  - 7. Quantos copos de água (aproximadamente) você tomou hoje?"
            ],
            "text/plain": [
              "<IPython.core.display.Markdown object>"
            ]
          },
          "metadata": {},
          "output_type": "display_data"
        },
        {
          "data": {
            "text/markdown": [
              "  - 8. Como você avaliaria sua produtividade hoje?"
            ],
            "text/plain": [
              "<IPython.core.display.Markdown object>"
            ]
          },
          "metadata": {},
          "output_type": "display_data"
        },
        {
          "data": {
            "text/markdown": [
              "  - 9. Você acha que o calor afetou seu humor hoje?"
            ],
            "text/plain": [
              "<IPython.core.display.Markdown object>"
            ]
          },
          "metadata": {},
          "output_type": "display_data"
        },
        {
          "data": {
            "text/markdown": [
              "  - 10. De 0 a 10, qual nota você daria para o \"calor de hoje\"?"
            ],
            "text/plain": [
              "<IPython.core.display.Markdown object>"
            ]
          },
          "metadata": {},
          "output_type": "display_data"
        },
        {
          "data": {
            "text/markdown": [
              "\n",
              "- 📅 **Datas em que houve respostas:** 01/04/2025, 02/04/2025, 03/04/2025, 06/04/2025, 10/04/2025, 11/04/2025\n",
              "- 📆 **Número de dias diferentes com respostas:** 6\n",
              "- 📈 **Média de respostas por dia:** 22.0\n",
              "- 🕰️ **Primeira resposta:** 01/04/2025\n",
              "- 🕰️ **Última resposta:** 11/04/2025\n"
            ],
            "text/plain": [
              "<IPython.core.display.Markdown object>"
            ]
          },
          "metadata": {},
          "output_type": "display_data"
        }
      ],
      "source": [
        "from IPython.display import display, Markdown\n",
        "\n",
        "# Só tranformado o carimbo de data e hora em Data\n",
        "df['Data'] = pd.to_datetime(df['Carimbo de data/hora'], dayfirst=True).dt.strftime('%d/%m/%Y')\n",
        "\n",
        "# Número de respostas\n",
        "num_respostas = df.shape[0]\n",
        "\n",
        "# Número de perguntas tirando as colunas de data e temperatura\n",
        "colunas_perguntas = [col for col in df.columns if 'Temperatura' not in col and 'Carimbo' not in col and col != 'Data']\n",
        "num_perguntas = len(colunas_perguntas)\n",
        "\n",
        "# Lista de perguntas\n",
        "lista_perguntas = colunas_perguntas\n",
        "\n",
        "# Datas das respostas\n",
        "datas_unicas = df['Data'].unique()\n",
        "num_dias_unicos = len(datas_unicas)\n",
        "\n",
        "# Média de respostas por dia\n",
        "media_respostas_dia = round(num_respostas / num_dias_unicos, 2)\n",
        "\n",
        "# Primeira e última resposta\n",
        "primeira_data = df['Data'].min()\n",
        "ultima_data = df['Data'].max()\n",
        "\n",
        "# Exibir as informações formatadas\n",
        "display(Markdown(f\"\"\"\n",
        "# 📋 Informações sobre o questionário:\n",
        "\n",
        "- ✅ **Número de respostas:** {num_respostas}\n",
        "- ❓ **Quantidade de perguntas:** {num_perguntas}\n",
        "- 📝 **Perguntas do questionário:**\n",
        "\"\"\"))\n",
        "\n",
        "for pergunta in lista_perguntas:\n",
        "    display(Markdown(f\"  - {pergunta.strip()}\"))\n",
        "\n",
        "display(Markdown(f\"\"\"\n",
        "- 📅 **Datas em que houve respostas:** {', '.join(datas_unicas)}\n",
        "- 📆 **Número de dias diferentes com respostas:** {num_dias_unicos}\n",
        "- 📈 **Média de respostas por dia:** {media_respostas_dia}\n",
        "- 🕰️ **Primeira resposta:** {primeira_data}\n",
        "- 🕰️ **Última resposta:** {ultima_data}\n",
        "\"\"\"))\n"
      ]
    },
    {
      "cell_type": "markdown",
      "metadata": {
        "id": "ZEqqaUl2T6Mb"
      },
      "source": [
        "# 📈 Análise da Relação entre Humor e Influência do Calor\n",
        "\n",
        "Nesta análise, cruzamos as respostas da primeira pergunta (\"Como você se sentiu hoje?\") com a nona pergunta (\"Você acha que o calor afetou seu humor hoje?\").\n",
        "\n",
        "O gráfico gerado permite observar:\n",
        "- Se pessoas que relataram sentimentos positivos (\"Feliz\", \"Animado\", etc.) foram pouco impactadas pelo calor;\n",
        "- E se sentimentos negativos (\"Cansado\", \"Irritado\", etc.) têm maior associação com a percepção de que o calor influenciou negativamente o humor.\n",
        "\n",
        "🔎 A tendência esperada é que sensações de cansaço, irritação ou desânimo apareçam com maior frequência entre aqueles que disseram que o calor afetou seu humor.\n",
        "\n",
        "Essa informação é fundamental para entender como fatores climáticos externos podem impactar diretamente o bem-estar emocional da população local.\n"
      ]
    },
    {
      "cell_type": "code",
      "execution_count": 5,
      "metadata": {
        "colab": {
          "base_uri": "https://localhost:8080/",
          "height": 504
        },
        "id": "14kuKJEnT7lM",
        "outputId": "07d0b1b9-656b-4897-cbb0-b0ea5310c32e"
      },
      "outputs": [
        {
          "data": {
            "text/plain": [
              "<Figure size 1200x700 with 0 Axes>"
            ]
          },
          "metadata": {},
          "output_type": "display_data"
        },
        {
          "data": {
            "image/png": "[encoded data removed]",
            "text/plain": [
              "<Figure size 640x480 with 1 Axes>"
            ]
          },
          "metadata": {},
          "output_type": "display_data"
        }
      ],
      "source": [
        "import matplotlib.pyplot as plt\n",
        "import seaborn as sns\n",
        "\n",
        "# Corrigir espaços nos nomes das colunas\n",
        "df.columns = df.columns.str.strip()\n",
        "\n",
        "\n",
        "coluna_1 = '1. Como você se sentiu hoje?'\n",
        "coluna_9 = '9. Você acha que o calor afetou seu humor hoje?'\n",
        "\n",
        "# criando uma tabela cruzando essas respostas\n",
        "tabela_cruzada = pd.crosstab(df[coluna_1], df[coluna_9])\n",
        "\n",
        "# Fazendo o grafico mostrado a seguir\n",
        "plt.figure(figsize=(12, 7))\n",
        "tabela_cruzada.plot(kind='bar', stacked=True)\n",
        "plt.title('Relação entre Como se Sentiu Hoje e Influência do Calor no Humor')\n",
        "plt.xlabel('Como você se sentiu hoje')\n",
        "plt.ylabel('Número de respostas')\n",
        "plt.xticks(rotation=45)\n",
        "plt.legend(title='Calor afetou o humor?')\n",
        "plt.grid(axis='y')\n",
        "plt.tight_layout()\n",
        "plt.show()\n"
      ]
    },
    {
      "cell_type": "markdown",
      "metadata": {
        "id": "hODpMkjsVHIT"
      },
      "source": [
        "# 🌡️ Temperaturas registradas nos dias das respostas\n",
        "\n",
        "Abaixo estão as temperaturas máximas e mínimas registradas nos dias em que o questionário foi respondido.\n",
        "\n",
        "Essas informações são importantes para correlacionar as percepções de humor dos participantes com as condições climáticas reais.\n",
        "\n",
        "Destaques:\n",
        "- As temperaturas máximas variaram entre **32°C** e **34°C**.\n",
        "- As temperaturas mínimas variaram entre **24°C** e **25°C**.\n",
        "- Apesar das variações serem pequenas, pequenas diferenças de temperatura podem impactar o conforto térmico e, consequentemente, o humor das pessoas.\n"
      ]
    },
    {
      "cell_type": "code",
      "execution_count": 6,
      "metadata": {
        "colab": {
          "base_uri": "https://localhost:8080/",
          "height": 255
        },
        "id": "MYD568cGVICr",
        "outputId": "acccad4f-fac3-4e22-8470-065c9d553a88"
      },
      "outputs": [
        {
          "name": "stdout",
          "output_type": "stream",
          "text": [
            "🌡️ Temperaturas registradas nos dias das respostas:\n"
          ]
        },
        {
          "data": {
            "text/html": [
              "<div>\n",
              "<style scoped>\n",
              "    .dataframe tbody tr th:only-of-type {\n",
              "        vertical-align: middle;\n",
              "    }\n",
              "\n",
              "    .dataframe tbody tr th {\n",
              "        vertical-align: top;\n",
              "    }\n",
              "\n",
              "    .dataframe thead th {\n",
              "        text-align: right;\n",
              "    }\n",
              "</style>\n",
              "<table border=\"1\" class=\"dataframe\">\n",
              "  <thead>\n",
              "    <tr style=\"text-align: right;\">\n",
              "      <th></th>\n",
              "      <th>Data</th>\n",
              "      <th>Temperatura Máxima (°C)</th>\n",
              "      <th>Temperatura Mínima (°C)</th>\n",
              "    </tr>\n",
              "  </thead>\n",
              "  <tbody>\n",
              "    <tr>\n",
              "      <th>0</th>\n",
              "      <td>01/04/2025</td>\n",
              "      <td>33</td>\n",
              "      <td>24</td>\n",
              "    </tr>\n",
              "    <tr>\n",
              "      <th>39</th>\n",
              "      <td>02/04/2025</td>\n",
              "      <td>32</td>\n",
              "      <td>25</td>\n",
              "    </tr>\n",
              "    <tr>\n",
              "      <th>111</th>\n",
              "      <td>03/04/2025</td>\n",
              "      <td>33</td>\n",
              "      <td>24</td>\n",
              "    </tr>\n",
              "    <tr>\n",
              "      <th>122</th>\n",
              "      <td>06/04/2025</td>\n",
              "      <td>34</td>\n",
              "      <td>25</td>\n",
              "    </tr>\n",
              "    <tr>\n",
              "      <th>123</th>\n",
              "      <td>10/04/2025</td>\n",
              "      <td>33</td>\n",
              "      <td>25</td>\n",
              "    </tr>\n",
              "    <tr>\n",
              "      <th>131</th>\n",
              "      <td>11/04/2025</td>\n",
              "      <td>32</td>\n",
              "      <td>24</td>\n",
              "    </tr>\n",
              "  </tbody>\n",
              "</table>\n",
              "</div>"
            ],
            "text/plain": [
              "           Data  Temperatura Máxima (°C)  Temperatura Mínima (°C)\n",
              "0    01/04/2025                       33                       24\n",
              "39   02/04/2025                       32                       25\n",
              "111  03/04/2025                       33                       24\n",
              "122  06/04/2025                       34                       25\n",
              "123  10/04/2025                       33                       25\n",
              "131  11/04/2025                       32                       24"
            ]
          },
          "metadata": {},
          "output_type": "display_data"
        }
      ],
      "source": [
        "# Mostrar a tabela de datas e temperaturas\n",
        "tabela_temperaturas = df[['Data', 'Temperatura Máxima (°C)', 'Temperatura Mínima (°C)']].drop_duplicates().sort_values('Data')\n",
        "\n",
        "# Exibir a tabela\n",
        "print(\"🌡️ Temperaturas registradas nos dias das respostas:\")\n",
        "display(tabela_temperaturas)\n"
      ]
    },
    {
      "cell_type": "code",
      "execution_count": 7,
      "metadata": {
        "colab": {
          "base_uri": "https://localhost:8080/",
          "height": 676
        },
        "id": "RPpXpMaAWDEH",
        "outputId": "b5c2ca21-1d80-4c94-8849-a24fe4016565"
      },
      "outputs": [
        {
          "name": "stderr",
          "output_type": "stream",
          "text": [
            "C:\\Users\\franc\\AppData\\Local\\Temp\\ipykernel_10776\\955900523.py:16: UserWarning: Glyph 127777 (\\N{THERMOMETER}) missing from font(s) DejaVu Sans.\n",
            "  plt.tight_layout()\n",
            "c:\\Users\\franc\\DevelopDesktop\\python\\ciencia_de_dados\\trabalhoUFPI\\comp_aplicada\\venv\\Lib\\site-packages\\IPython\\core\\pylabtools.py:170: UserWarning: Glyph 127777 (\\N{THERMOMETER}) missing from font(s) DejaVu Sans.\n",
            "  fig.canvas.print_figure(bytes_io, **kw)\n"
          ]
        },
        {
          "data": {
            "image/png": "[encoded data removed]",
            "text/plain": [
              "<Figure size 1200x600 with 1 Axes>"
            ]
          },
          "metadata": {},
          "output_type": "display_data"
        }
      ],
      "source": [
        "import matplotlib.pyplot as plt\n",
        "\n",
        "\n",
        "tabela_temperaturas = df[['Data', 'Temperatura Máxima (°C)', 'Temperatura Mínima (°C)']].drop_duplicates().sort_values('Data')\n",
        "tabela_temperaturas['Data'] = pd.to_datetime(tabela_temperaturas['Data'], dayfirst=True)\n",
        "\n",
        "plt.figure(figsize=(12,6))\n",
        "plt.plot(tabela_temperaturas['Data'], tabela_temperaturas['Temperatura Máxima (°C)'], marker='o', label='Temperatura Máxima (°C)')\n",
        "plt.plot(tabela_temperaturas['Data'], tabela_temperaturas['Temperatura Mínima (°C)'], marker='s', label='Temperatura Mínima (°C)')\n",
        "plt.title('🌡️ Variação das Temperaturas nos Dias de Resposta')\n",
        "plt.xlabel('Data')\n",
        "plt.ylabel('Temperatura (°C)')\n",
        "plt.legend()\n",
        "plt.grid(True)\n",
        "plt.xticks(rotation=45)\n",
        "plt.tight_layout()\n",
        "plt.show()\n"
      ]
    }
  ],
  "metadata": {
    "colab": {
      "provenance": []
    },
    "kernelspec": {
      "display_name": "venv",
      "language": "python",
      "name": "python3"
    },
    "language_info": {
      "codemirror_mode": {
        "name": "ipython",
        "version": 3
      },
      "file_extension": ".py",
      "mimetype": "text/x-python",
      "name": "python",
      "nbconvert_exporter": "python",
      "pygments_lexer": "ipython3",
      "version": "3.13.1"
    }
  },
  "nbformat": 4,
  "nbformat_minor": 0
}
